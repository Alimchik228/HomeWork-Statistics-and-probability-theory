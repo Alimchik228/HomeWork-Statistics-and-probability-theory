{
 "cells": [
  {
   "cell_type": "markdown",
   "id": "41d04596",
   "metadata": {},
   "source": [
    "##### 1. Даны значения зарплат из выборки выпускников: 100, 80, 75, 77, 89, 33, 45, 25, 65, 17, 30, 24, 57, 55, 70, 75, 65, 84, 90, 150. Посчитать (желательно без использования статистических методов наподобие std, var, mean) среднее арифметическое, среднее квадратичное отклонение, смещенную и несмещенную оценки дисперсий для данной выборки."
   ]
  },
  {
   "cell_type": "code",
   "execution_count": 4,
   "id": "0238f90b",
   "metadata": {},
   "outputs": [
    {
     "name": "stdout",
     "output_type": "stream",
     "text": [
      "[17, 24, 25, 30, 33, 45, 55, 57, 65, 65, 70, 75, 75, 77, 80, 84, 89, 90, 100, 150]\n"
     ]
    }
   ],
   "source": [
    "x = [100, 80, 75, 77, 89, 33, 45, 25, 65, 17, 30, 24, 57, 55, 70, 75, 65, 84, 90, 150]\n",
    "x.sort()\n",
    "print(x)"
   ]
  },
  {
   "cell_type": "code",
   "execution_count": 7,
   "id": "f979922a",
   "metadata": {},
   "outputs": [
    {
     "name": "stdout",
     "output_type": "stream",
     "text": [
      "среднее арифметическое:  65.3\n"
     ]
    }
   ],
   "source": [
    "#среднее арифметическое\n",
    "j = 0\n",
    "for i in x:\n",
    "    j += i\n",
    "print('среднее арифметическое: ', j / len(x))"
   ]
  },
  {
   "cell_type": "code",
   "execution_count": 20,
   "id": "83c6b9be",
   "metadata": {},
   "outputs": [
    {
     "name": "stdout",
     "output_type": "stream",
     "text": [
      "среднее квадратичное отклонение:  30.823854398825596\n",
      "среднее квадратичное отклонение с смещением:  31.624607341019814\n",
      "Смещенная дисперсия:  950.11\n",
      "Несмещенная дисперсия:  1000.1157894736842\n"
     ]
    }
   ],
   "source": [
    "#среднее квадратичное отклонение\n",
    "sum = 0\n",
    "mean = j / len(x)\n",
    "for i in x:\n",
    "    sum += (i - mean)**2\n",
    "print('среднее квадратичное отклонение: ', (sum / (len(x)))**(1/2))\n",
    "print('среднее квадратичное отклонение с смещением: ', (sum / (len(x) -1))**(1/2))\n",
    "print('Смещенная дисперсия: ', sum / len(x))\n",
    "print('Несмещенная дисперсия: ', sum / (len(x) - 1))"
   ]
  },
  {
   "cell_type": "code",
   "execution_count": 18,
   "id": "2ab05259",
   "metadata": {},
   "outputs": [
    {
     "data": {
      "text/plain": [
       "(31.62460734101981, 1000.115789473684, 30.823854398825592, 950.1099999999999)"
      ]
     },
     "execution_count": 18,
     "metadata": {},
     "output_type": "execute_result"
    }
   ],
   "source": [
    "#Проверка с помощью библиотек \n",
    "import numpy as np\n",
    "np.std(x, ddof = 1), np.var(x, ddof = 1), np.std(x), np.var(x)"
   ]
  },
  {
   "cell_type": "markdown",
   "id": "9862c92b",
   "metadata": {},
   "source": [
    "##### 2. В первом ящике находится 8 мячей, из которых 5 - белые. Во втором ящике - 12 мячей, из которых 5 белых. Из первого ящика вытаскивают случайным образом два мяча, из второго - 4. Какова вероятность того, что 3 мяча белые?"
   ]
  },
  {
   "cell_type": "code",
   "execution_count": 25,
   "id": "5307d62e",
   "metadata": {},
   "outputs": [
    {
     "name": "stdout",
     "output_type": "stream",
     "text": [
      "0.3686868686868687\n"
     ]
    }
   ],
   "source": [
    "import math \n",
    "def Comination(m, n):\n",
    "   return int(math.factorial(n)/(math.factorial(m)*math.factorial(n-m)))\n",
    "p1 = Comination(2, 5) / Comination(2, 8) * (Comination(1, 5) * Comination(3, 7))/ Comination(4, 12)\n",
    "p2 = (Comination(1, 5) * Comination(1, 3)) / Comination(2, 8) * (Comination(2, 5) * Comination(2, 7)) / Comination(4, 12)\n",
    "p3 = Comination(2, 3) / Comination(2, 8) * (Comination(2, 5) * Comination(1, 7)) / Comination(4, 12)\n",
    "print(p1+p2+p3)"
   ]
  },
  {
   "cell_type": "markdown",
   "id": "2be10167",
   "metadata": {},
   "source": [
    "##### 3. На соревновании по биатлону один из трех спортсменов стреляет и попадает в мишень. Вероятность попадания для первого спортсмена равна 0.9, для второго — 0.8, для третьего — 0.6. Найти вероятность того, что выстрел произведен: a). первым спортсменом б). вторым спортсменом в). третьим спортсменом."
   ]
  },
  {
   "cell_type": "code",
   "execution_count": 29,
   "id": "f9190ffb",
   "metadata": {},
   "outputs": [
    {
     "name": "stdout",
     "output_type": "stream",
     "text": [
      "0.391304347826087 0.3478260869565218 0.2608695652173913\n"
     ]
    }
   ],
   "source": [
    "pA = 1 / 3 * 0.9 + 1 / 3 * 0.8 + 1 / 3 * 0.6\n",
    "pB = 1 / 3\n",
    "# a)\n",
    "pBA1 = pB * 0.9 / pA\n",
    "# б)\n",
    "pBA2 = pB * 0.8 / pA\n",
    "# в)\n",
    "pBA3 = pB * 0.6 / pA\n",
    "\n",
    "\n",
    "print ( pBA1, pBA2, pBA3)"
   ]
  },
  {
   "cell_type": "markdown",
   "id": "a0d05f63",
   "metadata": {},
   "source": [
    "##### 4. В университет на факультеты A и B поступило равное количество студентов, а на факультет C студентов поступило столько же, сколько на A и B вместе. Вероятность того, что студент факультета A сдаст первую сессию, равна 0.8. Для студента факультета B эта вероятность равна 0.7, а для студента факультета C - 0.9. Студент сдал первую сессию. Какова вероятность, что он учится: a). на факультете A б). на факультете B в). на факультете C?"
   ]
  },
  {
   "cell_type": "code",
   "execution_count": 30,
   "id": "a46e8240",
   "metadata": {},
   "outputs": [
    {
     "name": "stdout",
     "output_type": "stream",
     "text": [
      "0.24242424242424246 0.21212121212121213 0.5454545454545455\n"
     ]
    }
   ],
   "source": [
    "pA = 1 / 4 * 0.8 + 1 / 4 * 0.7 + 2 / 4 * 0.9\n",
    "pB = 1 / 4\n",
    "pBc = 2 / 4\n",
    "# a)\n",
    "pBA1 = pB * 0.8 / pA\n",
    "# б)\n",
    "pBA2 = pB * 0.7 / pA\n",
    "# в)\n",
    "pBA3 = pBc * 0.9 / pA\n",
    "\n",
    "\n",
    "print ( pBA1, pBA2, pBA3)"
   ]
  },
  {
   "cell_type": "markdown",
   "id": "8cc15197",
   "metadata": {},
   "source": [
    "##### 5. Устройство состоит из трех деталей. Для первой детали вероятность выйти из строя в первый месяц равна 0.1, для второй - 0.2, для третьей - 0.25. Какова вероятность того, что в первый месяц выйдут из строя: а). все детали б). только две детали в). хотя бы одна деталь г). от одной до двух деталей?"
   ]
  },
  {
   "cell_type": "code",
   "execution_count": 28,
   "id": "596e765e",
   "metadata": {},
   "outputs": [
    {
     "name": "stdout",
     "output_type": "stream",
     "text": [
      "0.005000000000000001 0.08000000000000002 0.45999999999999996 0.455\n"
     ]
    }
   ],
   "source": [
    "# a)\n",
    "p1 = 0.1*0.2*0.25\n",
    "# б)\n",
    "p2 = 0.1*0.2*0.75 + 0.9*0.2*0.25 + 0.1*0.8*0.25\n",
    "# в)\n",
    "p3 = 1 - 0.9*0.8*0.75\n",
    "# г)\n",
    "p4 = p2 + 0.9*0.2*0.75 + 0.9*0.8*0.25 + 0.1*0.8*0.75\n",
    "print ( p1, p2, p3, p4)"
   ]
  },
  {
   "cell_type": "code",
   "execution_count": null,
   "id": "07d817dd",
   "metadata": {},
   "outputs": [],
   "source": []
  }
 ],
 "metadata": {
  "kernelspec": {
   "display_name": "Python 3 (ipykernel)",
   "language": "python",
   "name": "python3"
  },
  "language_info": {
   "codemirror_mode": {
    "name": "ipython",
    "version": 3
   },
   "file_extension": ".py",
   "mimetype": "text/x-python",
   "name": "python",
   "nbconvert_exporter": "python",
   "pygments_lexer": "ipython3",
   "version": "3.9.7"
  }
 },
 "nbformat": 4,
 "nbformat_minor": 5
}
