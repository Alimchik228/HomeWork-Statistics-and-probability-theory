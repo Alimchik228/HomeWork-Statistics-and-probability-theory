{
 "cells": [
  {
   "cell_type": "markdown",
   "id": "7d4d45ed",
   "metadata": {},
   "source": [
    "#### 1. Даны значения величины заработной платы заемщиков банка (zp) и значения их поведенческого кредитного скоринга (ks):\n",
    "#### zp = [35, 45, 190, 200, 40, 70, 54, 150, 120, 110],\n",
    "#### ks = [401, 574, 874, 919, 459, 739, 653, 902, 746, 832].\n",
    "#### Найдите ковариацию этих двух величин с помощью элементарных действий, а затем с помощью функции cov из numpy\n",
    "#### Полученные значения должны быть равны.\n",
    "#### Найдите коэффициент корреляции Пирсона с помощью ковариации и среднеквадратичных отклонений двух признаков,\n",
    "#### а затем с использованием функций из библиотек numpy и pandas."
   ]
  },
  {
   "cell_type": "code",
   "execution_count": 2,
   "id": "05f08c9b",
   "metadata": {},
   "outputs": [],
   "source": [
    "zp = [35, 45, 190, 200, 40, 70, 54, 150, 120, 110]\n",
    "ks = [401, 574, 874, 919, 459, 739, 653, 902, 746, 832]"
   ]
  },
  {
   "cell_type": "code",
   "execution_count": 16,
   "id": "d083e926",
   "metadata": {},
   "outputs": [
    {
     "name": "stdout",
     "output_type": "stream",
     "text": [
      "9157.84 9157.84\n"
     ]
    }
   ],
   "source": [
    "#Мат. ожидание zp\n",
    "summ = 0\n",
    "for i in zp:\n",
    "    summ += i\n",
    "M_zp = summ/len(zp)\n",
    "#Мат. ожидание ks\n",
    "summ = 0\n",
    "for i in ks:\n",
    "    summ += i\n",
    "M_ks = summ/len(ks)\n",
    "#Мат. ожидание ks*zp\n",
    "summ = 0\n",
    "ks_zp = []\n",
    "for i in range(len(zp)):\n",
    "    ks_zp.append(zp[i] * ks[i])\n",
    "\n",
    "\n",
    "for i in ks_zp:\n",
    "    summ += i\n",
    "M_ks_zp = summ/len(ks_zp)\n",
    "cov_ks_zp = M_ks_zp - M_ks * M_zp\n",
    "import numpy as np\n",
    "print(np.round(cov_ks_zp, 2), np.cov(zp, ks, ddof = 0)[0][1])"
   ]
  },
  {
   "cell_type": "code",
   "execution_count": 31,
   "id": "c972930f",
   "metadata": {},
   "outputs": [
    {
     "name": "stdout",
     "output_type": "stream",
     "text": [
      "0.8874900920739158 0.8874900920739162\n"
     ]
    }
   ],
   "source": [
    "#Поиск корреляции:\n",
    "#С помощью средних\n",
    "summ = 0\n",
    "for i in zp:\n",
    "    summ += (i - M_zp)**2\n",
    "std_zp = (summ / len(zp))**(1/2)\n",
    "summ = 0\n",
    "for i in ks:\n",
    "    summ += (i - M_ks)**2\n",
    "std_ks = (summ / len(ks))**(1/2)\n",
    "\n",
    "cor_ks_zp = cov_ks_zp / (std_ks*std_zp)\n",
    "#С помощью библиотеки\n",
    "print(cor_ks_zp, np.corrcoef(zp, ks)[0][1])"
   ]
  },
  {
   "cell_type": "markdown",
   "id": "4350fb87",
   "metadata": {},
   "source": [
    "#### Измерены значения IQ выборки студентов,\n",
    "#### обучающихся в местных технических вузах:\n",
    "#### 131, 125, 115, 122, 131, 115, 107, 99, 125, 111.\n",
    "#### Известно, что в генеральной совокупности IQ распределен нормально.\n",
    "#### Найдите доверительный интервал для математического ожидания с надежностью 0.95."
   ]
  },
  {
   "cell_type": "code",
   "execution_count": 35,
   "id": "f6dbcfd4",
   "metadata": {},
   "outputs": [
    {
     "name": "stdout",
     "output_type": "stream",
     "text": [
      "Доверительный интервал: [111.89914728444546, 124.30085271555453]\n"
     ]
    }
   ],
   "source": [
    "#Т.к неизвестна сигма гениральной совокупности, будет использовать критерий Стьюдента\n",
    "#Критерий Cтьюдента для 95%, будет равен 1.96, т.к t(2.5) = 1.96\n",
    "IQ = [131, 125, 115, 122, 131, 115, 107, 99, 125, 111]\n",
    "summ = 0\n",
    "for i in IQ:\n",
    "    summ += i\n",
    "X_IQ = summ / len(IQ)\n",
    "summ = 0\n",
    "for i in IQ:\n",
    "    summ += (i - X_IQ)**2\n",
    "std = (summ/len(IQ))**(1/2)\n",
    "X1 = X_IQ - std*1.96/len(IQ)**(1/2)\n",
    "X2 = X_IQ + std*1.96/len(IQ)**(1/2)\n",
    "print('Доверительный интервал: [{}, {}]'.format(X1, X2))"
   ]
  },
  {
   "cell_type": "code",
   "execution_count": 38,
   "id": "ce3e8603",
   "metadata": {},
   "outputs": [
    {
     "name": "stdout",
     "output_type": "stream",
     "text": [
      "Доверительный интервал: [111.89914728444546, 124.30085271555453]\n"
     ]
    }
   ],
   "source": [
    "#Проверка доверительного интервала с помощью библиотеки numpy\n",
    "std = np.std(IQ)\n",
    "mean = np.mean(IQ)\n",
    "X1 = mean - 1.96*std / np.sqrt(len(IQ))\n",
    "X2 = mean + 1.96*std / np.sqrt(len(IQ))\n",
    "print('Доверительный интервал: [{}, {}]'.format(X1, X2))"
   ]
  },
  {
   "cell_type": "markdown",
   "id": "5fe2d74c",
   "metadata": {},
   "source": [
    "#### Известно, что рост футболистов в сборной распределен нормально\n",
    "#### с дисперсией генеральной совокупности, равной 25 кв.см. Объем выборки равен 27,\n",
    "#### среднее выборочное составляет 174.2. Найдите доверительный интервал для математического\n",
    "#### ожидания с надежностью 0.95."
   ]
  },
  {
   "cell_type": "code",
   "execution_count": 39,
   "id": "00a6a1ee",
   "metadata": {},
   "outputs": [
    {
     "name": "stdout",
     "output_type": "stream",
     "text": [
      "Доверительный интервал: [172.31398912064722, 176.08601087935276]\n"
     ]
    }
   ],
   "source": [
    "X1 = 174.2 - 1.96*5 / np.sqrt(27)\n",
    "X2 = 174.2 + 1.96*5 / np.sqrt(27)\n",
    "print('Доверительный интервал: [{}, {}]'.format(X1, X2))"
   ]
  },
  {
   "cell_type": "code",
   "execution_count": null,
   "id": "3c06142b",
   "metadata": {},
   "outputs": [],
   "source": []
  }
 ],
 "metadata": {
  "kernelspec": {
   "display_name": "Python 3 (ipykernel)",
   "language": "python",
   "name": "python3"
  },
  "language_info": {
   "codemirror_mode": {
    "name": "ipython",
    "version": 3
   },
   "file_extension": ".py",
   "mimetype": "text/x-python",
   "name": "python",
   "nbconvert_exporter": "python",
   "pygments_lexer": "ipython3",
   "version": "3.9.7"
  }
 },
 "nbformat": 4,
 "nbformat_minor": 5
}
