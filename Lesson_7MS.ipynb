{
 "cells": [
  {
   "cell_type": "markdown",
   "id": "9b0eea73",
   "metadata": {},
   "source": [
    "Даны значения величины заработной платы заемщиков банка (zp) и значения их поведенческого кредитного скоринга (ks): \n",
    "zp = [35, 45, 190, 200, 40, 70, 54, 150, 120, 110], \n",
    "ks = [401, 574, 874, 919, 459, 739, 653, 902, 746, 832]. \n",
    "Используя математические операции, посчитать коэффициенты линейной регрессии, приняв за X заработную плату \n",
    "(то есть, zp - признак), а за y - значения скорингового балла (то есть, ks - целевая переменная). \n",
    "Произвести расчет как с использованием intercept, так и без."
   ]
  },
  {
   "cell_type": "code",
   "execution_count": 1,
   "id": "8756ecb7",
   "metadata": {},
   "outputs": [],
   "source": [
    "import matplotlib.pyplot as plt\n",
    "import numpy as np\n",
    "%matplotlib inline"
   ]
  },
  {
   "cell_type": "code",
   "execution_count": 2,
   "id": "b6ec28a6",
   "metadata": {},
   "outputs": [],
   "source": [
    "zp = np.array([35, 45, 190, 200, 40, 70, 54, 150, 120, 110])\n",
    "ks = np.array([401, 574, 874, 919, 459, 739, 653, 902, 746, 832])"
   ]
  },
  {
   "cell_type": "code",
   "execution_count": 3,
   "id": "453a2301",
   "metadata": {},
   "outputs": [
    {
     "data": {
      "image/png": "[encoded data removed]",
      "text/plain": [
       "<Figure size 432x288 with 1 Axes>"
      ]
     },
     "metadata": {
      "needs_background": "light"
     },
     "output_type": "display_data"
    }
   ],
   "source": [
    "plt.scatter(zp, ks)\n",
    "plt.show()"
   ]
  },
  {
   "cell_type": "code",
   "execution_count": 4,
   "id": "f72af698",
   "metadata": {},
   "outputs": [
    {
     "data": {
      "text/plain": [
       "2.6205388824027653"
      ]
     },
     "execution_count": 4,
     "metadata": {},
     "output_type": "execute_result"
    }
   ],
   "source": [
    "b = (len(zp)*np.sum(zp*ks) - np.sum(zp)*np.sum(ks))/(len(zp)*np.sum(zp**2) - np.sum(zp)**2) #Первая формула\n",
    "b"
   ]
  },
  {
   "cell_type": "code",
   "execution_count": 5,
   "id": "54730586",
   "metadata": {},
   "outputs": [
    {
     "data": {
      "text/plain": [
       "2.620538882402765"
      ]
     },
     "execution_count": 5,
     "metadata": {},
     "output_type": "execute_result"
    }
   ],
   "source": [
    "b = (np.mean(zp*ks) - np.mean(zp)*np.mean(ks))/(np.mean(zp**2) - np.mean(zp)**2) #Вторая формула\n",
    "b"
   ]
  },
  {
   "cell_type": "code",
   "execution_count": 6,
   "id": "52ba22ea",
   "metadata": {},
   "outputs": [
    {
     "data": {
      "text/plain": [
       "444.1773573243596"
      ]
     },
     "execution_count": 6,
     "metadata": {},
     "output_type": "execute_result"
    }
   ],
   "source": [
    "a = np.mean(ks) - b*np.mean(zp)\n",
    "a"
   ]
  },
  {
   "cell_type": "code",
   "execution_count": 7,
   "id": "8cf21e20",
   "metadata": {},
   "outputs": [
    {
     "data": {
      "image/png": "[encoded data removed]",
      "text/plain": [
       "<Figure size 432x288 with 1 Axes>"
      ]
     },
     "metadata": {
      "needs_background": "light"
     },
     "output_type": "display_data"
    }
   ],
   "source": [
    "#intercept\n",
    "plt.scatter(zp, ks)\n",
    "plt.plot()\n",
    "plt.plot(zp, a + b * zp)\n",
    "plt.show()"
   ]
  },
  {
   "cell_type": "code",
   "execution_count": 8,
   "id": "8014f825",
   "metadata": {},
   "outputs": [],
   "source": [
    "#without intercept\n",
    "# С помощью матричного способа\n",
    "import seaborn as sns"
   ]
  },
  {
   "cell_type": "code",
   "execution_count": 9,
   "id": "eb096a20",
   "metadata": {},
   "outputs": [
    {
     "data": {
      "text/plain": [
       "array([[ 35],\n",
       "       [ 45],\n",
       "       [190],\n",
       "       [200],\n",
       "       [ 40],\n",
       "       [ 70],\n",
       "       [ 54],\n",
       "       [150],\n",
       "       [120],\n",
       "       [110]])"
      ]
     },
     "execution_count": 9,
     "metadata": {},
     "output_type": "execute_result"
    }
   ],
   "source": [
    "zp = zp.reshape(len(zp), 1)\n",
    "zp"
   ]
  },
  {
   "cell_type": "code",
   "execution_count": 10,
   "id": "c72813a2",
   "metadata": {},
   "outputs": [
    {
     "data": {
      "text/plain": [
       "array([[401],\n",
       "       [574],\n",
       "       [874],\n",
       "       [919],\n",
       "       [459],\n",
       "       [739],\n",
       "       [653],\n",
       "       [902],\n",
       "       [746],\n",
       "       [832]])"
      ]
     },
     "execution_count": 10,
     "metadata": {},
     "output_type": "execute_result"
    }
   ],
   "source": [
    "ks = ks.reshape(len(ks), 1)\n",
    "ks"
   ]
  },
  {
   "cell_type": "code",
   "execution_count": 11,
   "id": "f1e5beba",
   "metadata": {},
   "outputs": [
    {
     "data": {
      "text/plain": [
       "array([[5.88982042]])"
      ]
     },
     "execution_count": 11,
     "metadata": {},
     "output_type": "execute_result"
    }
   ],
   "source": [
    "b = np.dot(np.linalg.inv(np.dot(zp.T, zp)),zp.T@ks)\n",
    "b"
   ]
  },
  {
   "cell_type": "code",
   "execution_count": 12,
   "id": "a35fba76",
   "metadata": {},
   "outputs": [
    {
     "data": {
      "image/png": "[encoded data removed]",
      "text/plain": [
       "<Figure size 432x288 with 1 Axes>"
      ]
     },
     "metadata": {
      "needs_background": "light"
     },
     "output_type": "display_data"
    }
   ],
   "source": [
    "#intercept\n",
    "plt.scatter(zp, ks)\n",
    "plt.plot()\n",
    "plt.plot(zp, b * zp)\n",
    "plt.show()"
   ]
  },
  {
   "cell_type": "markdown",
   "id": "570c8b20",
   "metadata": {},
   "source": [
    "Посчитать коэффициент линейной регрессии при заработной плате (zp), используя градиентный спуск (без intercept)."
   ]
  },
  {
   "cell_type": "code",
   "execution_count": 19,
   "id": "02695df0",
   "metadata": {},
   "outputs": [
    {
     "name": "stdout",
     "output_type": "stream",
     "text": [
      "interation: 0, b1 = 0.25952808, mse = 493237.7212546963\n",
      "interation: 500, b1 = 5.889815595583751, mse = 56516.858416040064\n",
      "interation: 1000, b1 = 5.8898204201285544, mse = 56516.85841571941\n",
      "interation: 1500, b1 = 5.889820420132673, mse = 56516.85841571943\n",
      "interation: 2000, b1 = 5.889820420132673, mse = 56516.85841571943\n",
      "interation: 2500, b1 = 5.889820420132673, mse = 56516.85841571943\n"
     ]
    }
   ],
   "source": [
    "b1 = 0.1\n",
    "\n",
    "def mse_(b1, ks=ks, zp=zp, n=10):\n",
    "    return (np.sum((b1*zp - ks)**2)/n)\n",
    "\n",
    "alpha = 1e-6\n",
    "n = 10\n",
    "for i in range(3000):\n",
    "    b1 -=alpha*(2/n)*np.sum((b1*zp - ks)*zp)\n",
    "    if i%500==0:\n",
    "        print('interation: {i}, b1 = {b1}, mse = {mse}'.format(i=i, b1=b1, mse = mse_(b1)))\n"
   ]
  },
  {
   "cell_type": "markdown",
   "id": "ac53b6db",
   "metadata": {},
   "source": [
    "*3. Произвести вычисления как в пункте 2, но с вычислением intercept. \n",
    "Учесть, что изменение коэффициентов должно производиться на каждом шаге одновременно (то есть изменение одного коэффициента не должно влиять на изменение другого во время одной итерации)."
   ]
  },
  {
   "cell_type": "code",
   "execution_count": 26,
   "id": "6bb901d5",
   "metadata": {},
   "outputs": [
    {
     "data": {
      "text/plain": [
       "array([[444.17735732],\n",
       "       [  2.62053888]])"
      ]
     },
     "execution_count": 26,
     "metadata": {},
     "output_type": "execute_result"
    }
   ],
   "source": [
    "zp = np.array([35, 45, 190, 200, 40, 70, 54, 150, 120, 110])\n",
    "ks = np.array([401, 574, 874, 919, 459, 739, 653, 902, 746, 832])\n",
    "\n",
    "zp = zp.reshape(len(zp), 1)\n",
    "ks = ks.reshape(len(ks), 1)\n",
    "zp = np.hstack([np.ones((10,1)), zp])\n",
    "b = np.dot(np.linalg.inv(np.dot(zp.T, zp)),zp.T@ks)\n",
    "b"
   ]
  },
  {
   "cell_type": "code",
   "execution_count": 37,
   "id": "290b7954",
   "metadata": {},
   "outputs": [
    {
     "name": "stdout",
     "output_type": "stream",
     "text": [
      "interation: 0, b1 = 2.3020650088043455,  b2 = 487.4456648749044, mse = 6945.312059547103\n",
      "interation: 500000, b1 = 2.373415229425429,  b2 = 477.7519237376801, mse = 6756.358354326573\n",
      "interation: 1000000, b1 = 2.428780295832429,  b2 = 470.2299480924339, mse = 6642.586084623443\n",
      "interation: 1500000, b1 = 2.4717414885455584,  b2 = 464.3931801401785, mse = 6574.0818478941965\n",
      "interation: 2000000, b1 = 2.5050777454874678,  b2 = 459.86406947358347, mse = 6532.8342709394365\n",
      "interation: 2500000, b1 = 2.530945417139744,  b2 = 456.3496512890684, mse = 6507.998396753186\n",
      "interation: 3000000, b1 = 2.5510177497318516,  b2 = 453.622596004944, mse = 6493.044290545327\n",
      "interation: 3500000, b1 = 2.566593118906898,  b2 = 451.5065044836377, mse = 6484.0401664788205\n"
     ]
    }
   ],
   "source": [
    "b1_x = 0.1\n",
    "b2_x = 0.1\n",
    "zp = np.array([35, 45, 190, 200, 40, 70, 54, 150, 120, 110])\n",
    "ks = np.array([401, 574, 874, 919, 459, 739, 653, 902, 746, 832])\n",
    "\n",
    "def mse_(b1, b2, ks=ks, zp=zp, n=10):\n",
    "    return (np.sum((b1*zp + b2 - ks)**2)/n)\n",
    "\n",
    "alpha = 1e-6\n",
    "n = 10\n",
    "for i in range(3500001):\n",
    "    b1-= alpha*(2/n)*np.sum((b1*zp + b2 - ks)*zp)\n",
    "    b2-= alpha*(2/n)*np.sum(b1*zp + b2 - ks)\n",
    "    if i%500000==0:\n",
    "        print('interation: {i}, b1 = {b1},  b2 = {b2}, mse = {mse}'.format(i=i, b1=b1, b2=b2, mse = mse_(b1, b2)))"
   ]
  },
  {
   "cell_type": "code",
   "execution_count": 38,
   "id": "80c37deb",
   "metadata": {},
   "outputs": [
    {
     "data": {
      "image/png": "[encoded data removed]",
      "text/plain": [
       "<Figure size 432x288 with 1 Axes>"
      ]
     },
     "metadata": {
      "needs_background": "light"
     },
     "output_type": "display_data"
    }
   ],
   "source": [
    "#intercept\n",
    "plt.scatter(zp, ks)\n",
    "plt.plot()\n",
    "plt.plot(zp, b2 + b1 * zp)\n",
    "plt.show()"
   ]
  }
 ],
 "metadata": {
  "kernelspec": {
   "display_name": "Python 3 (ipykernel)",
   "language": "python",
   "name": "python3"
  },
  "language_info": {
   "codemirror_mode": {
    "name": "ipython",
    "version": 3
   },
   "file_extension": ".py",
   "mimetype": "text/x-python",
   "name": "python",
   "nbconvert_exporter": "python",
   "pygments_lexer": "ipython3",
   "version": "3.9.7"
  }
 },
 "nbformat": 4,
 "nbformat_minor": 5
}
