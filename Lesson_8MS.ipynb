{
 "cells": [
  {
   "cell_type": "markdown",
   "id": "808c7d08",
   "metadata": {},
   "source": [
    "Провести дисперсионный анализ для определения того, есть ли различия среднего роста среди взрослых футболистов, хоккеистов и штангистов. \n",
    "Даны значения роста в трех группах случайно выбранных спортсменов: \n",
    "Футболисты: 173, 175, 180, 178, 177, 185, 183, 182. \n",
    "Хоккеисты: 177, 179, 180, 188, 177, 172, 171, 184, 180. \n",
    "Штангисты: 172, 173, 169, 177, 166, 180, 178, 177, 172, 166, 170."
   ]
  },
  {
   "cell_type": "code",
   "execution_count": 1,
   "id": "97935ba0",
   "metadata": {},
   "outputs": [],
   "source": [
    "import numpy as np\n",
    "import pandas as pd\n",
    "import matplotlib.pyplot as plt"
   ]
  },
  {
   "cell_type": "code",
   "execution_count": 2,
   "id": "4c180510",
   "metadata": {},
   "outputs": [],
   "source": [
    "\n",
    "football_v = np.array([173, 175, 180, 178, 177, 185, 183, 182, None, None, None]).reshape(11,1)\n",
    "hockey_v = np.array([177, 179, 180, 188, 177, 172, 171, 184, 180, None, None]).reshape(11,1)\n",
    "Weightlifter_v = np.array([172, 173, 169, 177, 166, 180, 178, 177, 172, 166, 170]).reshape(11,1)\n"
   ]
  },
  {
   "cell_type": "code",
   "execution_count": 3,
   "id": "19cb6a0e",
   "metadata": {},
   "outputs": [
    {
     "data": {
      "text/plain": [
       "172.72727272727272"
      ]
     },
     "execution_count": 3,
     "metadata": {},
     "output_type": "execute_result"
    }
   ],
   "source": [
    "Weightlifter_v.mean()"
   ]
  },
  {
   "cell_type": "code",
   "execution_count": 4,
   "id": "2decf3b7",
   "metadata": {},
   "outputs": [],
   "source": [
    "football = np.array(['football', 'football', 'football', 'football', 'football', 'football', 'football', 'football', 'football', 'football', 'football'])\n",
    "hockey = np.array(['hockey', 'hockey', 'hockey', 'hockey', 'hockey', 'hockey', 'hockey', 'hockey', 'hockey', 'hockey', 'hockey'])\n",
    "Weightlifter = np.array(['Weightlifter', 'Weightlifter', 'Weightlifter', 'Weightlifter', 'Weightlifter', 'Weightlifter', 'Weightlifter', 'Weightlifter', 'Weightlifter', 'Weightlifter', 'Weightlifter'])\n",
    "\n",
    "football = football.reshape(11,1)\n",
    "hockey = hockey.reshape(11,1)\n",
    "Weightlifter = Weightlifter.reshape(11,1)\n",
    "\n",
    "sportsman1 = np.hstack([football, football_v])\n",
    "sportsman2 = np.hstack([hockey, hockey_v])\n",
    "sportsman3 = np.hstack([Weightlifter, Weightlifter_v])\n",
    "\n",
    "sportsman = np.vstack([sportsman1, sportsman2])\n",
    "sportsman = np.vstack([sportsman, sportsman3])\n",
    "sportsman = pd.DataFrame(sportsman)\n",
    "# sportsman['mean'] = sportsman.groupby(by = [0])[1].transform(np.mean)\n",
    "# # sportsman.loc[sportsman[0] == 'Weightlifter', 1]\n",
    "# sportsman.info()"
   ]
  },
  {
   "cell_type": "code",
   "execution_count": 5,
   "id": "53e42857",
   "metadata": {},
   "outputs": [
    {
     "data": {
      "image/png": "[encoded data removed]",
      "text/plain": [
       "<Figure size 1152x576 with 1 Axes>"
      ]
     },
     "metadata": {
      "needs_background": "light"
     },
     "output_type": "display_data"
    }
   ],
   "source": [
    "plt.figure(figsize = (16, 8))\n",
    "plt.scatter(sportsman[0], sportsman[1])\n",
    "\n",
    "plt.show()"
   ]
  },
  {
   "cell_type": "code",
   "execution_count": 9,
   "id": "8499141a",
   "metadata": {},
   "outputs": [
    {
     "data": {
      "text/plain": [
       "F_onewayResult(statistic=5.500053450812596, pvalue=0.010482206918698694)"
      ]
     },
     "execution_count": 9,
     "metadata": {},
     "output_type": "execute_result"
    }
   ],
   "source": [
    "#Проверка на статистически значимые различия, гипотезы \n",
    "#H0 (Фактор не влияет на рост спортсменов)\n",
    "#H1(Фактон влияет на рост спортсменов)\n",
    "football_v = np.array([173, 175, 180, 178, 177, 185, 183, 182])\n",
    "hockey_v = np.array([177, 179, 180, 188, 177, 172, 171, 184, 180])\n",
    "Weightlifter_v = np.array([172, 173, 169, 177, 166, 180, 178, 177, 172, 166, 170])\n",
    "from scipy import stats\n",
    "stats.f_oneway(football_v, hockey_v, Weightlifter_v)"
   ]
  },
  {
   "cell_type": "code",
   "execution_count": null,
   "id": "9d72d005",
   "metadata": {},
   "outputs": [],
   "source": [
    "#Вывод, pvalue получился меньше 0.05, соответственно делаем вывод, что есть статистически значимые различия, \n",
    "#Табличное значение: Степени свободы для фактора(числителя 3-1=2), для остаточной(знаменателя 28 - 3 = 25) = 3.38"
   ]
  }
 ],
 "metadata": {
  "kernelspec": {
   "display_name": "Python 3 (ipykernel)",
   "language": "python",
   "name": "python3"
  },
  "language_info": {
   "codemirror_mode": {
    "name": "ipython",
    "version": 3
   },
   "file_extension": ".py",
   "mimetype": "text/x-python",
   "name": "python",
   "nbconvert_exporter": "python",
   "pygments_lexer": "ipython3",
   "version": "3.9.7"
  }
 },
 "nbformat": 4,
 "nbformat_minor": 5
}
